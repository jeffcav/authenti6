{
 "cells": [
  {
   "cell_type": "code",
   "execution_count": 13,
   "metadata": {},
   "outputs": [],
   "source": [
    "import numpy as np\n",
    "import pandas as pd\n",
    "import matplotlib.pyplot as plt\n",
    "from sklearn.neural_network import MLPClassifier\n",
    "from sklearn.preprocessing import StandardScaler\n",
    "from sklearn.model_selection import train_test_split\n",
    "from sklearn.preprocessing import PolynomialFeatures\n",
    "from sklearn.metrics import classification_report, confusion_matrix\n",
    "from sklearn.model_selection import GridSearchCV, StratifiedShuffleSplit, learning_curve"
   ]
  },
  {
   "cell_type": "markdown",
   "metadata": {},
   "source": [
    "## Load dataset"
   ]
  },
  {
   "cell_type": "code",
   "execution_count": 14,
   "metadata": {},
   "outputs": [
    {
     "data": {
      "text/html": [
       "<div>\n",
       "<style scoped>\n",
       "    .dataframe tbody tr th:only-of-type {\n",
       "        vertical-align: middle;\n",
       "    }\n",
       "\n",
       "    .dataframe tbody tr th {\n",
       "        vertical-align: top;\n",
       "    }\n",
       "\n",
       "    .dataframe thead th {\n",
       "        text-align: right;\n",
       "    }\n",
       "</style>\n",
       "<table border=\"1\" class=\"dataframe\">\n",
       "  <thead>\n",
       "    <tr style=\"text-align: right;\">\n",
       "      <th></th>\n",
       "      <th>device</th>\n",
       "      <th>max_iat</th>\n",
       "      <th>max_rtt</th>\n",
       "      <th>mean_iat</th>\n",
       "      <th>mean_rtt</th>\n",
       "      <th>median_iat</th>\n",
       "      <th>median_rtt</th>\n",
       "      <th>min_iat</th>\n",
       "      <th>min_rtt</th>\n",
       "    </tr>\n",
       "  </thead>\n",
       "  <tbody>\n",
       "    <tr>\n",
       "      <th>0</th>\n",
       "      <td>0</td>\n",
       "      <td>0.000014</td>\n",
       "      <td>0.183980</td>\n",
       "      <td>0.000006</td>\n",
       "      <td>0.008211</td>\n",
       "      <td>0.000003</td>\n",
       "      <td>0.004000</td>\n",
       "      <td>0.000002</td>\n",
       "      <td>0.002662</td>\n",
       "    </tr>\n",
       "    <tr>\n",
       "      <th>1</th>\n",
       "      <td>0</td>\n",
       "      <td>0.000014</td>\n",
       "      <td>0.112005</td>\n",
       "      <td>0.000009</td>\n",
       "      <td>0.006274</td>\n",
       "      <td>0.000013</td>\n",
       "      <td>0.004000</td>\n",
       "      <td>0.000003</td>\n",
       "      <td>0.003973</td>\n",
       "    </tr>\n",
       "    <tr>\n",
       "      <th>2</th>\n",
       "      <td>0</td>\n",
       "      <td>0.000019</td>\n",
       "      <td>0.123997</td>\n",
       "      <td>0.000011</td>\n",
       "      <td>0.006267</td>\n",
       "      <td>0.000013</td>\n",
       "      <td>0.003999</td>\n",
       "      <td>0.000002</td>\n",
       "      <td>0.003971</td>\n",
       "    </tr>\n",
       "    <tr>\n",
       "      <th>3</th>\n",
       "      <td>0</td>\n",
       "      <td>0.000014</td>\n",
       "      <td>0.124003</td>\n",
       "      <td>0.000010</td>\n",
       "      <td>0.006383</td>\n",
       "      <td>0.000013</td>\n",
       "      <td>0.003999</td>\n",
       "      <td>0.000003</td>\n",
       "      <td>0.003956</td>\n",
       "    </tr>\n",
       "    <tr>\n",
       "      <th>4</th>\n",
       "      <td>0</td>\n",
       "      <td>0.000019</td>\n",
       "      <td>0.119981</td>\n",
       "      <td>0.000011</td>\n",
       "      <td>0.006143</td>\n",
       "      <td>0.000013</td>\n",
       "      <td>0.003999</td>\n",
       "      <td>0.000002</td>\n",
       "      <td>0.003958</td>\n",
       "    </tr>\n",
       "  </tbody>\n",
       "</table>\n",
       "</div>"
      ],
      "text/plain": [
       "   device   max_iat   max_rtt  mean_iat  mean_rtt  median_iat  median_rtt  \\\n",
       "0       0  0.000014  0.183980  0.000006  0.008211    0.000003    0.004000   \n",
       "1       0  0.000014  0.112005  0.000009  0.006274    0.000013    0.004000   \n",
       "2       0  0.000019  0.123997  0.000011  0.006267    0.000013    0.003999   \n",
       "3       0  0.000014  0.124003  0.000010  0.006383    0.000013    0.003999   \n",
       "4       0  0.000019  0.119981  0.000011  0.006143    0.000013    0.003999   \n",
       "\n",
       "    min_iat   min_rtt  \n",
       "0  0.000002  0.002662  \n",
       "1  0.000003  0.003973  \n",
       "2  0.000002  0.003971  \n",
       "3  0.000003  0.003956  \n",
       "4  0.000002  0.003958  "
      ]
     },
     "execution_count": 14,
     "metadata": {},
     "output_type": "execute_result"
    }
   ],
   "source": [
    "devices = pd.read_csv(\"dataset.csv\", delimiter=\" \")\n",
    "devices.head()"
   ]
  },
  {
   "cell_type": "markdown",
   "metadata": {},
   "source": [
    "## Split dataset into data and labels"
   ]
  },
  {
   "cell_type": "code",
   "execution_count": 15,
   "metadata": {},
   "outputs": [],
   "source": [
    "X = devices.iloc[:, 1:9]\n",
    "y = devices.select_dtypes(include=[int])"
   ]
  },
  {
   "cell_type": "markdown",
   "metadata": {},
   "source": [
    "## Make polynomial features"
   ]
  },
  {
   "cell_type": "code",
   "execution_count": 16,
   "metadata": {},
   "outputs": [],
   "source": [
    "poly = PolynomialFeatures(2)\n",
    "X = poly.fit_transform(X.values[:,:])"
   ]
  },
  {
   "cell_type": "markdown",
   "metadata": {},
   "source": [
    "## Split dataset into train and test"
   ]
  },
  {
   "cell_type": "code",
   "execution_count": 17,
   "metadata": {},
   "outputs": [],
   "source": [
    "X_train, X_test, y_train, y_test = train_test_split(X, y, test_size = 0.2, random_state=0)"
   ]
  },
  {
   "cell_type": "markdown",
   "metadata": {},
   "source": [
    "## Scale data"
   ]
  },
  {
   "cell_type": "code",
   "execution_count": 18,
   "metadata": {},
   "outputs": [],
   "source": [
    "scaler = StandardScaler()\n",
    "scaler.fit(X_train)\n",
    "\n",
    "X_train = scaler.transform(X_train)\n",
    "X_test = scaler.transform(X_test)"
   ]
  },
  {
   "cell_type": "markdown",
   "metadata": {},
   "source": [
    "## Train an MLP with softmax activation"
   ]
  },
  {
   "cell_type": "code",
   "execution_count": 19,
   "metadata": {},
   "outputs": [
    {
     "data": {
      "text/plain": [
       "MLPClassifier(hidden_layer_sizes=(15, 15, 15), max_iter=50000)"
      ]
     },
     "execution_count": 19,
     "metadata": {},
     "output_type": "execute_result"
    }
   ],
   "source": [
    "mlp = MLPClassifier(hidden_layer_sizes=(15, 15, 15), max_iter=50000)\n",
    "mlp.out_activation_ = 'softmax'\n",
    "mlp.fit(X_train, y_train.values.ravel())"
   ]
  },
  {
   "cell_type": "code",
   "execution_count": 20,
   "metadata": {},
   "outputs": [],
   "source": [
    "predictions = mlp.predict(X_test)"
   ]
  },
  {
   "cell_type": "code",
   "execution_count": 21,
   "metadata": {},
   "outputs": [
    {
     "name": "stdout",
     "output_type": "stream",
     "text": [
      "[[20  0  6  0  0  0  0  1  0  0  1  0  0  0]\n",
      " [ 0 15  0  0  0  0  0  0  0  0  0  0  0  0]\n",
      " [ 0  0 18  0  0  0  1  1  0  0  0  0  0  0]\n",
      " [ 1  0  0 15  0  0  0  1  3  0  0  0  0  0]\n",
      " [ 0  0  0  0 24  0  0  0  0  0  0  0  0  0]\n",
      " [ 0  0  1  0  0 23  1  0  0  0  0  0  0  0]\n",
      " [ 0  0  0  0  0  3  9  1  0  0  0  0  0  0]\n",
      " [ 2  0  0  0  0  0  1 15  0  0  0  0  0  0]\n",
      " [ 0  0  0  0  0  0  0  0  9  0  0  0  6  0]\n",
      " [ 0  0  0  1  0  0  0  0  1 24  0  0  0  0]\n",
      " [ 1  0  0  0  0  0  0  0  0  0 13  1  0  0]\n",
      " [ 0  0  0  0  0  1  0  0  0  0  2 13  0  1]\n",
      " [ 0  0  0  0  0  0  0  0 12  0  0  0 14  0]\n",
      " [ 0  0  0  0  0  1  0  0  0  0  0  0  0 17]]\n"
     ]
    }
   ],
   "source": [
    "print(confusion_matrix(y_test,predictions))"
   ]
  },
  {
   "cell_type": "code",
   "execution_count": 22,
   "metadata": {},
   "outputs": [
    {
     "name": "stdout",
     "output_type": "stream",
     "text": [
      "              precision    recall  f1-score   support\n",
      "\n",
      "           0       0.83      0.71      0.77        28\n",
      "           1       1.00      1.00      1.00        15\n",
      "           2       0.72      0.90      0.80        20\n",
      "           3       0.94      0.75      0.83        20\n",
      "           4       1.00      1.00      1.00        24\n",
      "           5       0.82      0.92      0.87        25\n",
      "           6       0.75      0.69      0.72        13\n",
      "           7       0.79      0.83      0.81        18\n",
      "           8       0.36      0.60      0.45        15\n",
      "           9       1.00      0.92      0.96        26\n",
      "          10       0.81      0.87      0.84        15\n",
      "          11       0.93      0.76      0.84        17\n",
      "          12       0.70      0.54      0.61        26\n",
      "          13       0.94      0.94      0.94        18\n",
      "\n",
      "    accuracy                           0.82       280\n",
      "   macro avg       0.83      0.82      0.82       280\n",
      "weighted avg       0.84      0.82      0.82       280\n",
      "\n"
     ]
    }
   ],
   "source": [
    "print(classification_report(y_test,predictions))"
   ]
  },
  {
   "cell_type": "code",
   "execution_count": 23,
   "metadata": {},
   "outputs": [],
   "source": [
    "def plot_learning_curve(classifier, title, X, y, train_sizes=np.linspace(.1, 1.0, 10)):\n",
    "    plt.figure()\n",
    "    plt.title(title, fontsize=20, fontweight='bold')\n",
    "\n",
    "    # X axis\n",
    "    plt.xlabel(\"Training examples\", fontsize=16, fontweight='bold')\n",
    "    plt.xticks(fontsize=14)\n",
    "\n",
    "    # Y axis\n",
    "    plt.ylabel(\"F1-Score\", fontsize=16, fontweight='bold')\n",
    "    plt.yticks(np.arange(0, 1.1, step=0.1), fontsize=14)\n",
    "    plt.ylim(0, 1.1)\n",
    "\n",
    "    train_sizes, train_scores, test_scores = learning_curve(classifier, X, y, cv=StratifiedShuffleSplit(n_splits=10),\n",
    "                                                            train_sizes=train_sizes)\n",
    "    train_scores_mean = np.mean(train_scores, axis=1)\n",
    "    train_scores_std = np.std(train_scores, axis=1)\n",
    "    test_scores_mean = np.mean(test_scores, axis=1)\n",
    "    test_scores_std = np.std(test_scores, axis=1)\n",
    "\n",
    "    plt.fill_between(train_sizes, train_scores_mean - train_scores_std,\n",
    "                     train_scores_mean + train_scores_std, alpha=0.1, color=\"r\")\n",
    "    plt.fill_between(train_sizes, test_scores_mean - test_scores_std, test_scores_mean + test_scores_std, alpha=0.1,\n",
    "                     color=\"g\")\n",
    "    plt.plot(train_sizes, train_scores_mean, 'o-', color=\"r\", label=\"Training score\")\n",
    "    plt.plot(train_sizes, test_scores_mean, 'o-', color=\"g\", label=\"Cross-validation score\")\n",
    "    plt.legend(loc=\"best\", fontsize=16)\n",
    "\n",
    "    plt.grid()\n",
    "    plt.savefig('{}.png'.format(title))\n",
    "    print(\"Learning curves for {} saved at {}.png\".format(title, title))\n",
    "\n"
   ]
  },
  {
   "cell_type": "code",
   "execution_count": 24,
   "metadata": {},
   "outputs": [
    {
     "name": "stdout",
     "output_type": "stream",
     "text": [
      "Learning curves for MLP saved at MLP.png\n"
     ]
    },
    {
     "data": {
      "image/png": "[encoded data removed]",
      "text/plain": [
       "<Figure size 432x288 with 1 Axes>"
      ]
     },
     "metadata": {
      "needs_background": "light"
     },
     "output_type": "display_data"
    }
   ],
   "source": [
    "plot_learning_curve(mlp, \"MLP\", X_train, y_train.values.ravel())"
   ]
  }
 ],
 "metadata": {
  "interpreter": {
   "hash": "84d2a0d1168a2012e06f5e0571c0eb95288471f949a808c6d57b4e6cfb94d4fd"
  },
  "kernelspec": {
   "display_name": "Python 3.8.10 64-bit ('venv': venv)",
   "language": "python",
   "name": "python3"
  },
  "language_info": {
   "codemirror_mode": {
    "name": "ipython",
    "version": 3
   },
   "file_extension": ".py",
   "mimetype": "text/x-python",
   "name": "python",
   "nbconvert_exporter": "python",
   "pygments_lexer": "ipython3",
   "version": "3.8.10"
  },
  "orig_nbformat": 4
 },
 "nbformat": 4,
 "nbformat_minor": 2
}
