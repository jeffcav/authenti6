{
 "cells": [
  {
   "cell_type": "code",
   "execution_count": 1,
   "metadata": {},
   "outputs": [],
   "source": [
    "import numpy as np\n",
    "import pandas as pd\n",
    "import matplotlib.pyplot as plt\n",
    "from sklearn.neural_network import MLPClassifier\n",
    "from sklearn.preprocessing import StandardScaler\n",
    "from sklearn.model_selection import train_test_split\n",
    "from sklearn.preprocessing import PolynomialFeatures\n",
    "from sklearn.metrics import classification_report, confusion_matrix\n",
    "from sklearn.model_selection import GridSearchCV, StratifiedShuffleSplit, learning_curve"
   ]
  },
  {
   "cell_type": "markdown",
   "metadata": {},
   "source": [
    "## Load dataset"
   ]
  },
  {
   "cell_type": "code",
   "execution_count": 2,
   "metadata": {},
   "outputs": [
    {
     "data": {
      "text/html": [
       "<div>\n",
       "<style scoped>\n",
       "    .dataframe tbody tr th:only-of-type {\n",
       "        vertical-align: middle;\n",
       "    }\n",
       "\n",
       "    .dataframe tbody tr th {\n",
       "        vertical-align: top;\n",
       "    }\n",
       "\n",
       "    .dataframe thead th {\n",
       "        text-align: right;\n",
       "    }\n",
       "</style>\n",
       "<table border=\"1\" class=\"dataframe\">\n",
       "  <thead>\n",
       "    <tr style=\"text-align: right;\">\n",
       "      <th></th>\n",
       "      <th>device</th>\n",
       "      <th>max_iat</th>\n",
       "      <th>max_rtt</th>\n",
       "      <th>mean_iat</th>\n",
       "      <th>mean_rtt</th>\n",
       "      <th>median_iat</th>\n",
       "      <th>median_rtt</th>\n",
       "      <th>min_iat</th>\n",
       "      <th>min_rtt</th>\n",
       "    </tr>\n",
       "  </thead>\n",
       "  <tbody>\n",
       "    <tr>\n",
       "      <th>0</th>\n",
       "      <td>0</td>\n",
       "      <td>0.000014</td>\n",
       "      <td>0.183980</td>\n",
       "      <td>0.000006</td>\n",
       "      <td>0.008211</td>\n",
       "      <td>0.000003</td>\n",
       "      <td>0.004000</td>\n",
       "      <td>0.000002</td>\n",
       "      <td>0.002662</td>\n",
       "    </tr>\n",
       "    <tr>\n",
       "      <th>1</th>\n",
       "      <td>0</td>\n",
       "      <td>0.000014</td>\n",
       "      <td>0.112005</td>\n",
       "      <td>0.000009</td>\n",
       "      <td>0.006274</td>\n",
       "      <td>0.000013</td>\n",
       "      <td>0.004000</td>\n",
       "      <td>0.000003</td>\n",
       "      <td>0.003973</td>\n",
       "    </tr>\n",
       "    <tr>\n",
       "      <th>2</th>\n",
       "      <td>0</td>\n",
       "      <td>0.000019</td>\n",
       "      <td>0.123997</td>\n",
       "      <td>0.000011</td>\n",
       "      <td>0.006267</td>\n",
       "      <td>0.000013</td>\n",
       "      <td>0.003999</td>\n",
       "      <td>0.000002</td>\n",
       "      <td>0.003971</td>\n",
       "    </tr>\n",
       "    <tr>\n",
       "      <th>3</th>\n",
       "      <td>0</td>\n",
       "      <td>0.000014</td>\n",
       "      <td>0.124003</td>\n",
       "      <td>0.000010</td>\n",
       "      <td>0.006383</td>\n",
       "      <td>0.000013</td>\n",
       "      <td>0.003999</td>\n",
       "      <td>0.000003</td>\n",
       "      <td>0.003956</td>\n",
       "    </tr>\n",
       "    <tr>\n",
       "      <th>4</th>\n",
       "      <td>0</td>\n",
       "      <td>0.000019</td>\n",
       "      <td>0.119981</td>\n",
       "      <td>0.000011</td>\n",
       "      <td>0.006143</td>\n",
       "      <td>0.000013</td>\n",
       "      <td>0.003999</td>\n",
       "      <td>0.000002</td>\n",
       "      <td>0.003958</td>\n",
       "    </tr>\n",
       "  </tbody>\n",
       "</table>\n",
       "</div>"
      ],
      "text/plain": [
       "   device   max_iat   max_rtt  mean_iat  mean_rtt  median_iat  median_rtt  \\\n",
       "0       0  0.000014  0.183980  0.000006  0.008211    0.000003    0.004000   \n",
       "1       0  0.000014  0.112005  0.000009  0.006274    0.000013    0.004000   \n",
       "2       0  0.000019  0.123997  0.000011  0.006267    0.000013    0.003999   \n",
       "3       0  0.000014  0.124003  0.000010  0.006383    0.000013    0.003999   \n",
       "4       0  0.000019  0.119981  0.000011  0.006143    0.000013    0.003999   \n",
       "\n",
       "    min_iat   min_rtt  \n",
       "0  0.000002  0.002662  \n",
       "1  0.000003  0.003973  \n",
       "2  0.000002  0.003971  \n",
       "3  0.000003  0.003956  \n",
       "4  0.000002  0.003958  "
      ]
     },
     "execution_count": 2,
     "metadata": {},
     "output_type": "execute_result"
    }
   ],
   "source": [
    "devices = pd.read_csv(\"dataset.csv\", delimiter=\" \")\n",
    "devices.head()"
   ]
  },
  {
   "cell_type": "markdown",
   "metadata": {},
   "source": [
    "## Split dataset into data and labels"
   ]
  },
  {
   "cell_type": "code",
   "execution_count": 3,
   "metadata": {},
   "outputs": [],
   "source": [
    "X = devices.iloc[:, 1:9]\n",
    "y = devices.select_dtypes(include=[int])"
   ]
  },
  {
   "cell_type": "markdown",
   "metadata": {},
   "source": [
    "## Make polynomial features"
   ]
  },
  {
   "cell_type": "code",
   "execution_count": 4,
   "metadata": {},
   "outputs": [],
   "source": [
    "poly = PolynomialFeatures(2)\n",
    "X = poly.fit_transform(X.values[:,:])"
   ]
  },
  {
   "cell_type": "markdown",
   "metadata": {},
   "source": [
    "## Split dataset into train and test"
   ]
  },
  {
   "cell_type": "code",
   "execution_count": 5,
   "metadata": {},
   "outputs": [],
   "source": [
    "X_train, X_test, y_train, y_test = train_test_split(X, y, test_size = 0.2, random_state=0)"
   ]
  },
  {
   "cell_type": "markdown",
   "metadata": {},
   "source": [
    "## Scale data"
   ]
  },
  {
   "cell_type": "code",
   "execution_count": 6,
   "metadata": {},
   "outputs": [],
   "source": [
    "scaler = StandardScaler()\n",
    "scaler.fit(X_train)\n",
    "\n",
    "X_train = scaler.transform(X_train)\n",
    "X_test = scaler.transform(X_test)"
   ]
  },
  {
   "cell_type": "markdown",
   "metadata": {},
   "source": [
    "## Train an MLP with softmax activation"
   ]
  },
  {
   "cell_type": "code",
   "execution_count": 7,
   "metadata": {},
   "outputs": [
    {
     "data": {
      "text/plain": [
       "MLPClassifier(hidden_layer_sizes=(15, 15, 15), max_iter=50000)"
      ]
     },
     "execution_count": 7,
     "metadata": {},
     "output_type": "execute_result"
    }
   ],
   "source": [
    "mlp = MLPClassifier(hidden_layer_sizes=(15, 15, 15), max_iter=50000)\n",
    "mlp.out_activation_ = 'softmax'\n",
    "mlp.fit(X_train, y_train.values.ravel())"
   ]
  },
  {
   "cell_type": "code",
   "execution_count": 8,
   "metadata": {},
   "outputs": [],
   "source": [
    "predictions = mlp.predict(X_test)"
   ]
  },
  {
   "cell_type": "code",
   "execution_count": 9,
   "metadata": {},
   "outputs": [
    {
     "name": "stdout",
     "output_type": "stream",
     "text": [
      "[[22  0  4  0  0  0  0  0  0  0  1  1  0  0]\n",
      " [ 0 15  0  0  0  0  0  0  0  0  0  0  0  0]\n",
      " [ 2  0 16  0  0  0  1  1  0  0  0  0  0  0]\n",
      " [ 1  0  0 14  0  0  0  1  3  0  0  0  1  0]\n",
      " [ 0  0  0  0 24  0  0  0  0  0  0  0  0  0]\n",
      " [ 0  0  2  0  0 22  1  0  0  0  0  0  0  0]\n",
      " [ 0  0  0  0  0  3  9  1  0  0  0  0  0  0]\n",
      " [ 0  0  1  0  2  0  0 15  0  0  0  0  0  0]\n",
      " [ 0  0  0  0  0  0  0  0  9  0  0  0  6  0]\n",
      " [ 0  0  0  0  0  0  0  0  1 25  0  0  0  0]\n",
      " [ 0  0  0  0  0  0  0  0  0  0 13  2  0  0]\n",
      " [ 0  0  0  0  0  1  0  0  0  0  2 13  0  1]\n",
      " [ 0  0  0  0  0  0  0  0  9  0  0  0 17  0]\n",
      " [ 0  0  0  0  0  1  0  0  0  0  0  0  0 17]]\n"
     ]
    }
   ],
   "source": [
    "print(confusion_matrix(y_test,predictions))"
   ]
  },
  {
   "cell_type": "code",
   "execution_count": 10,
   "metadata": {},
   "outputs": [
    {
     "name": "stdout",
     "output_type": "stream",
     "text": [
      "              precision    recall  f1-score   support\n",
      "\n",
      "           0       0.88      0.79      0.83        28\n",
      "           1       1.00      1.00      1.00        15\n",
      "           2       0.70      0.80      0.74        20\n",
      "           3       1.00      0.70      0.82        20\n",
      "           4       0.92      1.00      0.96        24\n",
      "           5       0.81      0.88      0.85        25\n",
      "           6       0.82      0.69      0.75        13\n",
      "           7       0.83      0.83      0.83        18\n",
      "           8       0.41      0.60      0.49        15\n",
      "           9       1.00      0.96      0.98        26\n",
      "          10       0.81      0.87      0.84        15\n",
      "          11       0.81      0.76      0.79        17\n",
      "          12       0.71      0.65      0.68        26\n",
      "          13       0.94      0.94      0.94        18\n",
      "\n",
      "    accuracy                           0.82       280\n",
      "   macro avg       0.83      0.82      0.82       280\n",
      "weighted avg       0.84      0.82      0.83       280\n",
      "\n"
     ]
    }
   ],
   "source": [
    "print(classification_report(y_test,predictions))"
   ]
  },
  {
   "cell_type": "code",
   "execution_count": 11,
   "metadata": {},
   "outputs": [],
   "source": [
    "def plot_learning_curve(classifier, title, X, y, train_sizes=np.linspace(.1, 1.0, 10)):\n",
    "    plt.figure()\n",
    "    plt.title(title, fontsize=20, fontweight='bold')\n",
    "\n",
    "    # X axis\n",
    "    plt.xlabel(\"Training examples\", fontsize=16, fontweight='bold')\n",
    "    plt.xticks(fontsize=14)\n",
    "\n",
    "    # Y axis\n",
    "    plt.ylabel(\"F1-Score\", fontsize=16, fontweight='bold')\n",
    "    plt.yticks(np.arange(0, 1.1, step=0.1), fontsize=14)\n",
    "    plt.ylim(0, 1.1)\n",
    "\n",
    "    train_sizes, train_scores, test_scores = learning_curve(classifier, X, y, cv=StratifiedShuffleSplit(n_splits=10),\n",
    "                                                            train_sizes=train_sizes)\n",
    "    train_scores_mean = np.mean(train_scores, axis=1)\n",
    "    train_scores_std = np.std(train_scores, axis=1)\n",
    "    test_scores_mean = np.mean(test_scores, axis=1)\n",
    "    test_scores_std = np.std(test_scores, axis=1)\n",
    "\n",
    "    plt.fill_between(train_sizes, train_scores_mean - train_scores_std,\n",
    "                     train_scores_mean + train_scores_std, alpha=0.1, color=\"r\")\n",
    "    plt.fill_between(train_sizes, test_scores_mean - test_scores_std, test_scores_mean + test_scores_std, alpha=0.1,\n",
    "                     color=\"g\")\n",
    "    plt.plot(train_sizes, train_scores_mean, 'o-', color=\"r\", label=\"Training score\")\n",
    "    plt.plot(train_sizes, test_scores_mean, 'o-', color=\"g\", label=\"Cross-validation score\")\n",
    "    plt.legend(loc=\"best\", fontsize=16)\n",
    "\n",
    "    plt.grid()\n",
    "    plt.savefig('{}.png'.format(title))\n",
    "    print(\"Learning curves for {} saved at {}.png\".format(title, title))\n",
    "\n"
   ]
  },
  {
   "cell_type": "code",
   "execution_count": 12,
   "metadata": {},
   "outputs": [
    {
     "name": "stdout",
     "output_type": "stream",
     "text": [
      "Learning curves for MLP saved at MLP.png\n"
     ]
    },
    {
     "data": {
      "image/png": "[encoded data removed]",
      "text/plain": [
       "<Figure size 432x288 with 1 Axes>"
      ]
     },
     "metadata": {
      "needs_background": "light"
     },
     "output_type": "display_data"
    }
   ],
   "source": [
    "plot_learning_curve(mlp, \"MLP\", X_train, y_train.values.ravel())"
   ]
  },
  {
   "cell_type": "markdown",
   "metadata": {},
   "source": [
    "## Train other models"
   ]
  },
  {
   "cell_type": "code",
   "execution_count": 18,
   "metadata": {},
   "outputs": [],
   "source": [
    "from sklearn import svm\n",
    "from sklearn.linear_model import LogisticRegression\n",
    "from sklearn.ensemble import RandomForestClassifier\n",
    "from sklearn.metrics import classification_report\n",
    "from sklearn.model_selection import GridSearchCV\n",
    "from sklearn.model_selection import StratifiedShuffleSplit\n",
    "from sklearn.model_selection import learning_curve"
   ]
  },
  {
   "cell_type": "code",
   "execution_count": 19,
   "metadata": {},
   "outputs": [],
   "source": [
    "def search_best_hyperparameters(classifiers, X_train, y_train):\n",
    "    for _, params in classifiers.items():\n",
    "        param_search = GridSearchCV(params['classifier'], params['grid_params'], cv=10, n_jobs=-1)\n",
    "        param_search.fit(X_train, y_train)\n",
    "        best_classifier = param_search.best_estimator_\n",
    "        best_classifier.fit(X_train, y_train)\n",
    "        params['classifier'] = best_classifier"
   ]
  },
  {
   "cell_type": "code",
   "execution_count": 20,
   "metadata": {},
   "outputs": [],
   "source": [
    "classifiers = {\n",
    "    # 'SVM': {\n",
    "    #     'classifier': svm.SVC(kernel='rbf', max_iter=10e6),\n",
    "    #     'grid_params': {\n",
    "    #         'C': [0.01, 0.1, 1, 3, 5, 10, 20, 50, 100, 1000, 10000, 100000],\n",
    "    #         'gamma': [0.001, 0.01, 0.1, 0.5, 1, 2, 5, 10, 50, 100]\n",
    "    #     },\n",
    "    # },\n",
    "    # 'LogisticRegression': {\n",
    "    #     'classifier': LogisticRegression(solver='lbfgs', multi_class=\"ovr\", max_iter=10e6),\n",
    "    #     'grid_params': {\n",
    "    #         'C': np.arange(0.0001, 10, 0.01)\n",
    "    #     },\n",
    "    # },\n",
    "    \"RandomForest\": {\n",
    "        'classifier': RandomForestClassifier(random_state=0),\n",
    "        'grid_params': {\n",
    "            'n_estimators': [5, 8, 10, 15, 25, 50, 100, 200],\n",
    "            'max_depth': [1, 2, 4, 8, 10, 12, 15, 18, 22, 25]\n",
    "        }\n",
    "    }\n",
    "}"
   ]
  },
  {
   "cell_type": "code",
   "execution_count": 21,
   "metadata": {},
   "outputs": [
    {
     "name": "stderr",
     "output_type": "stream",
     "text": [
      "/home/jeff/dev/puma/dpe-compiler/venv/lib/python3.8/site-packages/sklearn/model_selection/_search.py:926: DataConversionWarning: A column-vector y was passed when a 1d array was expected. Please change the shape of y to (n_samples,), for example using ravel().\n",
      "  self.best_estimator_.fit(X, y, **fit_params)\n",
      "<ipython-input-19-19045f5d0edb>:6: DataConversionWarning: A column-vector y was passed when a 1d array was expected. Please change the shape of y to (n_samples,), for example using ravel().\n",
      "  best_classifier.fit(X_train, y_train)\n"
     ]
    }
   ],
   "source": [
    "search_best_hyperparameters(classifiers, X_train, y_train)"
   ]
  },
  {
   "cell_type": "code",
   "execution_count": 22,
   "metadata": {},
   "outputs": [
    {
     "name": "stdout",
     "output_type": "stream",
     "text": [
      "RandomForest\n",
      "RandomForestClassifier(max_depth=12, random_state=0)\n"
     ]
    },
    {
     "ename": "FileNotFoundError",
     "evalue": "[Errno 2] No such file or directory: 'models/RandomForest.joblib'",
     "output_type": "error",
     "traceback": [
      "\u001b[0;31m---------------------------------------------------------------------------\u001b[0m",
      "\u001b[0;31mFileNotFoundError\u001b[0m                         Traceback (most recent call last)",
      "\u001b[0;32m<ipython-input-22-f108555805fe>\u001b[0m in \u001b[0;36m<module>\u001b[0;34m\u001b[0m\n\u001b[1;32m      6\u001b[0m     \u001b[0mprint\u001b[0m\u001b[0;34m(\u001b[0m\u001b[0mclassifier\u001b[0m\u001b[0;34m)\u001b[0m\u001b[0;34m\u001b[0m\u001b[0;34m\u001b[0m\u001b[0m\n\u001b[1;32m      7\u001b[0m     \u001b[0mprint\u001b[0m\u001b[0;34m(\u001b[0m\u001b[0mparams\u001b[0m\u001b[0;34m[\u001b[0m\u001b[0;34m'classifier'\u001b[0m\u001b[0;34m]\u001b[0m\u001b[0;34m)\u001b[0m\u001b[0;34m\u001b[0m\u001b[0;34m\u001b[0m\u001b[0m\n\u001b[0;32m----> 8\u001b[0;31m     \u001b[0mdump\u001b[0m\u001b[0;34m(\u001b[0m\u001b[0mparams\u001b[0m\u001b[0;34m[\u001b[0m\u001b[0;34m'classifier'\u001b[0m\u001b[0;34m]\u001b[0m\u001b[0;34m,\u001b[0m \u001b[0;34m'models/'\u001b[0m\u001b[0;34m+\u001b[0m\u001b[0mclassifier\u001b[0m\u001b[0;34m+\u001b[0m\u001b[0;34m'.joblib'\u001b[0m\u001b[0;34m)\u001b[0m\u001b[0;34m\u001b[0m\u001b[0;34m\u001b[0m\u001b[0m\n\u001b[0m\u001b[1;32m      9\u001b[0m \u001b[0;34m\u001b[0m\u001b[0m\n\u001b[1;32m     10\u001b[0m     \u001b[0mplot_learning_curve\u001b[0m\u001b[0;34m(\u001b[0m\u001b[0mparams\u001b[0m\u001b[0;34m[\u001b[0m\u001b[0;34m'classifier'\u001b[0m\u001b[0;34m]\u001b[0m\u001b[0;34m,\u001b[0m \u001b[0mclassifier\u001b[0m\u001b[0;34m,\u001b[0m \u001b[0mX_train\u001b[0m\u001b[0;34m,\u001b[0m \u001b[0my_train\u001b[0m\u001b[0;34m)\u001b[0m\u001b[0;34m\u001b[0m\u001b[0;34m\u001b[0m\u001b[0m\n",
      "\u001b[0;32m~/dev/puma/dpe-compiler/venv/lib/python3.8/site-packages/joblib/numpy_pickle.py\u001b[0m in \u001b[0;36mdump\u001b[0;34m(value, filename, compress, protocol, cache_size)\u001b[0m\n\u001b[1;32m    479\u001b[0m             \u001b[0mNumpyPickler\u001b[0m\u001b[0;34m(\u001b[0m\u001b[0mf\u001b[0m\u001b[0;34m,\u001b[0m \u001b[0mprotocol\u001b[0m\u001b[0;34m=\u001b[0m\u001b[0mprotocol\u001b[0m\u001b[0;34m)\u001b[0m\u001b[0;34m.\u001b[0m\u001b[0mdump\u001b[0m\u001b[0;34m(\u001b[0m\u001b[0mvalue\u001b[0m\u001b[0;34m)\u001b[0m\u001b[0;34m\u001b[0m\u001b[0;34m\u001b[0m\u001b[0m\n\u001b[1;32m    480\u001b[0m     \u001b[0;32melif\u001b[0m \u001b[0mis_filename\u001b[0m\u001b[0;34m:\u001b[0m\u001b[0;34m\u001b[0m\u001b[0;34m\u001b[0m\u001b[0m\n\u001b[0;32m--> 481\u001b[0;31m         \u001b[0;32mwith\u001b[0m \u001b[0mopen\u001b[0m\u001b[0;34m(\u001b[0m\u001b[0mfilename\u001b[0m\u001b[0;34m,\u001b[0m \u001b[0;34m'wb'\u001b[0m\u001b[0;34m)\u001b[0m \u001b[0;32mas\u001b[0m \u001b[0mf\u001b[0m\u001b[0;34m:\u001b[0m\u001b[0;34m\u001b[0m\u001b[0;34m\u001b[0m\u001b[0m\n\u001b[0m\u001b[1;32m    482\u001b[0m             \u001b[0mNumpyPickler\u001b[0m\u001b[0;34m(\u001b[0m\u001b[0mf\u001b[0m\u001b[0;34m,\u001b[0m \u001b[0mprotocol\u001b[0m\u001b[0;34m=\u001b[0m\u001b[0mprotocol\u001b[0m\u001b[0;34m)\u001b[0m\u001b[0;34m.\u001b[0m\u001b[0mdump\u001b[0m\u001b[0;34m(\u001b[0m\u001b[0mvalue\u001b[0m\u001b[0;34m)\u001b[0m\u001b[0;34m\u001b[0m\u001b[0;34m\u001b[0m\u001b[0m\n\u001b[1;32m    483\u001b[0m     \u001b[0;32melse\u001b[0m\u001b[0;34m:\u001b[0m\u001b[0;34m\u001b[0m\u001b[0;34m\u001b[0m\u001b[0m\n",
      "\u001b[0;31mFileNotFoundError\u001b[0m: [Errno 2] No such file or directory: 'models/RandomForest.joblib'"
     ]
    }
   ],
   "source": [
    "# Export and Import trained sklearn classifiers\n",
    "from joblib import dump, load\n",
    "\n",
    "for classifier, params in classifiers.items():\n",
    "    # save best trained model to a .joblib file\n",
    "    print(classifier)\n",
    "    print(params['classifier'])\n",
    "    #dump(params['classifier'], 'models/'+classifier+'.joblib')\n",
    "\n",
    "    plot_learning_curve(params['classifier'], classifier, X_train, y_train)\n",
    "\n",
    "for classifier, params in classifiers.items():\n",
    "    print_scores_on_test_set(params['classifier'], classifier, X_test, y_test)"
   ]
  }
 ],
 "metadata": {
  "interpreter": {
   "hash": "84d2a0d1168a2012e06f5e0571c0eb95288471f949a808c6d57b4e6cfb94d4fd"
  },
  "kernelspec": {
   "display_name": "Python 3.8.10 64-bit ('venv': venv)",
   "language": "python",
   "name": "python3"
  },
  "language_info": {
   "codemirror_mode": {
    "name": "ipython",
    "version": 3
   },
   "file_extension": ".py",
   "mimetype": "text/x-python",
   "name": "python",
   "nbconvert_exporter": "python",
   "pygments_lexer": "ipython3",
   "version": "3.8.10"
  },
  "orig_nbformat": 4
 },
 "nbformat": 4,
 "nbformat_minor": 2
}
